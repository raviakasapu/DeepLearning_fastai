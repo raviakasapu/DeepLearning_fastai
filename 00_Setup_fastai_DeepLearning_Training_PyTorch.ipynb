{
  "nbformat": 4,
  "nbformat_minor": 0,
  "metadata": {
    "colab": {
      "name": "Copy of 00_Setup_fastai_DeepLearning_Training_PyTorch.ipynb",
      "provenance": [],
      "mount_file_id": "143CBVgD8Uudbcc5YdaHNQIodLETAZzvD",
      "authorship_tag": "ABX9TyMBMRrbtvjVdjd/cOSCTIl3",
      "include_colab_link": true
    },
    "kernelspec": {
      "name": "python3",
      "display_name": "Python 3"
    },
    "language_info": {
      "name": "python"
    },
    "accelerator": "GPU",
    "gpuClass": "standard"
  },
  "cells": [
    {
      "cell_type": "markdown",
      "metadata": {
        "id": "view-in-github",
        "colab_type": "text"
      },
      "source": [
        "<a href=\"https://colab.research.google.com/github/raviakasapu/DeepLearning_fastai/blob/main/00_Setup_fastai_DeepLearning_Training_PyTorch.ipynb\" target=\"_parent\"><img src=\"https://colab.research.google.com/assets/colab-badge.svg\" alt=\"Open In Colab\"/></a>"
      ]
    },
    {
      "cell_type": "markdown",
      "source": [
        "# Practical Deep Learning for Coders\n",
        "\n",
        "#https://course.fast.ai/"
      ],
      "metadata": {
        "id": "qt7eng6AW3ek"
      }
    },
    {
      "cell_type": "code",
      "source": [
        "!pip install -Uqq fastbook\n",
        "import fastbook\n",
        "fastbook.setup_book()"
      ],
      "metadata": {
        "colab": {
          "base_uri": "https://localhost:8080/"
        },
        "id": "q1vbbFkMXDd2",
        "outputId": "d5f2310f-94be-4a71-cb3c-05dac62f591f"
      },
      "execution_count": null,
      "outputs": [
        {
          "output_type": "stream",
          "name": "stdout",
          "text": [
            "\u001b[K     |████████████████████████████████| 719 kB 28.8 MB/s \n",
            "\u001b[K     |████████████████████████████████| 1.2 MB 61.2 MB/s \n",
            "\u001b[K     |████████████████████████████████| 4.4 MB 60.4 MB/s \n",
            "\u001b[K     |████████████████████████████████| 362 kB 68.5 MB/s \n",
            "\u001b[K     |████████████████████████████████| 140 kB 76.1 MB/s \n",
            "\u001b[K     |████████████████████████████████| 101 kB 12.6 MB/s \n",
            "\u001b[K     |████████████████████████████████| 212 kB 70.6 MB/s \n",
            "\u001b[K     |████████████████████████████████| 1.1 MB 62.7 MB/s \n",
            "\u001b[K     |████████████████████████████████| 596 kB 61.8 MB/s \n",
            "\u001b[K     |████████████████████████████████| 127 kB 74.1 MB/s \n",
            "\u001b[K     |████████████████████████████████| 271 kB 75.4 MB/s \n",
            "\u001b[K     |████████████████████████████████| 94 kB 3.1 MB/s \n",
            "\u001b[K     |████████████████████████████████| 144 kB 75.0 MB/s \n",
            "\u001b[K     |████████████████████████████████| 6.6 MB 54.9 MB/s \n",
            "\u001b[31mERROR: pip's dependency resolver does not currently take into account all the packages that are installed. This behaviour is the source of the following dependency conflicts.\n",
            "datascience 0.10.6 requires folium==0.2.1, but you have folium 0.8.3 which is incompatible.\u001b[0m\n",
            "\u001b[?25hMounted at /content/gdrive\n"
          ]
        }
      ]
    },
    {
      "cell_type": "code",
      "source": [
        "from fastbook import *"
      ],
      "metadata": {
        "id": "Vllzx2yBXdnb"
      },
      "execution_count": null,
      "outputs": []
    },
    {
      "cell_type": "code",
      "source": [
        "from google.colab import drive\n",
        "drive.mount('/content/drive/')\n"
      ],
      "metadata": {
        "colab": {
          "base_uri": "https://localhost:8080/"
        },
        "id": "cZXgWg6sYKdp",
        "outputId": "bc9a20a2-98dc-49b9-a5c2-e9e4093dfb30"
      },
      "execution_count": null,
      "outputs": [
        {
          "output_type": "stream",
          "name": "stdout",
          "text": [
            "Drive already mounted at /content/drive/; to attempt to forcibly remount, call drive.mount(\"/content/drive/\", force_remount=True).\n",
            "/content/drive/My Drive/Colab_files/fastai_DL\n"
          ]
        }
      ]
    },
    {
      "cell_type": "code",
      "source": [
        "%cd /content/drive/My\\ Drive/Colab Notebooks/fastai_DL_notebooks/"
      ],
      "metadata": {
        "colab": {
          "base_uri": "https://localhost:8080/"
        },
        "id": "_XPeYc9fZm0D",
        "outputId": "a472032c-8ca3-4590-fe3f-4f5bc5d48305"
      },
      "execution_count": null,
      "outputs": [
        {
          "output_type": "stream",
          "name": "stdout",
          "text": [
            "/content/drive/My Drive/Colab Notebooks/fastai_DL_notebooks\n"
          ]
        }
      ]
    },
    {
      "cell_type": "code",
      "source": [
        "#!git clone git@github.com:fastai/fastbook.git\n",
        "!git clone https://github.com/fastai/fastbook"
      ],
      "metadata": {
        "colab": {
          "base_uri": "https://localhost:8080/"
        },
        "id": "vkh8oGgrX-95",
        "outputId": "f98f84a6-ce49-4d74-aad2-c6622482171f"
      },
      "execution_count": null,
      "outputs": [
        {
          "output_type": "stream",
          "name": "stdout",
          "text": [
            "Cloning into 'fastbook'...\n",
            "remote: Enumerating objects: 2477, done.\u001b[K\n",
            "remote: Total 2477 (delta 0), reused 0 (delta 0), pack-reused 2477\u001b[K\n",
            "Receiving objects: 100% (2477/2477), 78.29 MiB | 17.99 MiB/s, done.\n",
            "Resolving deltas: 100% (1566/1566), done.\n",
            "Checking out files: 100% (239/239), done.\n"
          ]
        }
      ]
    },
    {
      "cell_type": "code",
      "source": [
        "%cd /content/drive/My\\ Drive/Colab Notebooks/fastai_DL_notebooks/fastbook/"
      ],
      "metadata": {
        "colab": {
          "base_uri": "https://localhost:8080/"
        },
        "id": "lpU1z-cfax60",
        "outputId": "e3f2fccd-9a21-4704-cdfe-87ba5f431afc"
      },
      "execution_count": null,
      "outputs": [
        {
          "output_type": "stream",
          "name": "stdout",
          "text": [
            "/content/drive/My Drive/Colab Notebooks/fastai_DL_notebooks/fastbook\n"
          ]
        }
      ]
    }
  ]
}